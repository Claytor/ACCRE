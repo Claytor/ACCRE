{
 "cells": [
  {
   "cell_type": "code",
   "execution_count": 1,
   "id": "858a26df",
   "metadata": {},
   "outputs": [],
   "source": [
    "import pandas as pd\n",
    "import statsmodels.api as sm\n",
    "import statsmodels.formula.api as smf\n",
    "import numpy as np\n",
    "import matplotlib.pyplot as plt\n",
    "import seaborn as sns\n",
    "%matplotlib inline"
   ]
  },
  {
   "cell_type": "markdown",
   "id": "e9862063",
   "metadata": {},
   "source": [
    "Currently there is a 5 day limit on runtime for GPU jobs, although some users have been asking for extensions. What is the distribution of requested runtime and actual runtime on jobs on each partition? Do users really need more time, or are they simply always requesting the maximum?"
   ]
  },
  {
   "cell_type": "markdown",
   "id": "9cf32f54",
   "metadata": {},
   "source": [
    "Import Dataframe"
   ]
  },
  {
   "cell_type": "code",
   "execution_count": 2,
   "id": "da665a8f",
   "metadata": {
    "scrolled": false
   },
   "outputs": [
    {
     "name": "stderr",
     "output_type": "stream",
     "text": [
      "Skipping line 124084: Expected 12 fields in line 124084, saw 13\n",
      "Skipping line 124809: Expected 12 fields in line 124809, saw 13\n"
     ]
    }
   ],
   "source": [
    "raw = pd.read_csv('../data/accre-gpu-jobs-2022-v2.csv',\n",
    "                 on_bad_lines='warn',\n",
    "                 engine='python') "
   ]
  },
  {
   "cell_type": "code",
   "execution_count": 3,
   "id": "0fd13eec",
   "metadata": {},
   "outputs": [
    {
     "name": "stdout",
     "output_type": "stream",
     "text": [
      "<class 'pandas.core.frame.DataFrame'>\n",
      "RangeIndex: 336950 entries, 0 to 336949\n",
      "Data columns (total 12 columns):\n",
      " #   Column     Non-Null Count   Dtype \n",
      "---  ------     --------------   ----- \n",
      " 0   JOBID      336950 non-null  object\n",
      " 1   ACCOUNT    336950 non-null  object\n",
      " 2   USER       336950 non-null  object\n",
      " 3   USEDMEM    336950 non-null  object\n",
      " 4   REQTIME    336950 non-null  object\n",
      " 5   USEDTIME   336950 non-null  object\n",
      " 6   NODES      336950 non-null  int64 \n",
      " 7   CPUS       336950 non-null  int64 \n",
      " 8   GPUS       336950 non-null  int64 \n",
      " 9   PARTITION  336950 non-null  object\n",
      " 10  EXITCODE   336950 non-null  object\n",
      " 11  STATE      336950 non-null  object\n",
      "dtypes: int64(3), object(9)\n",
      "memory usage: 30.8+ MB\n"
     ]
    }
   ],
   "source": [
    "raw.info()"
   ]
  },
  {
   "cell_type": "code",
   "execution_count": 4,
   "id": "72bd5f67",
   "metadata": {
    "scrolled": false
   },
   "outputs": [
    {
     "data": {
      "text/html": [
       "<div>\n",
       "<style scoped>\n",
       "    .dataframe tbody tr th:only-of-type {\n",
       "        vertical-align: middle;\n",
       "    }\n",
       "\n",
       "    .dataframe tbody tr th {\n",
       "        vertical-align: top;\n",
       "    }\n",
       "\n",
       "    .dataframe thead th {\n",
       "        text-align: right;\n",
       "    }\n",
       "</style>\n",
       "<table border=\"1\" class=\"dataframe\">\n",
       "  <thead>\n",
       "    <tr style=\"text-align: right;\">\n",
       "      <th></th>\n",
       "      <th>JOBID</th>\n",
       "      <th>ACCOUNT</th>\n",
       "      <th>USER</th>\n",
       "      <th>USEDMEM</th>\n",
       "      <th>REQTIME</th>\n",
       "      <th>USEDTIME</th>\n",
       "      <th>NODES</th>\n",
       "      <th>CPUS</th>\n",
       "      <th>GPUS</th>\n",
       "      <th>PARTITION</th>\n",
       "      <th>EXITCODE</th>\n",
       "      <th>STATE</th>\n",
       "    </tr>\n",
       "  </thead>\n",
       "  <tbody>\n",
       "    <tr>\n",
       "      <th>0</th>\n",
       "      <td>32880657</td>\n",
       "      <td>malanga</td>\n",
       "      <td>arline</td>\n",
       "      <td>18.66M</td>\n",
       "      <td>2-00:00:00</td>\n",
       "      <td>00:13:13</td>\n",
       "      <td>1</td>\n",
       "      <td>2</td>\n",
       "      <td>1</td>\n",
       "      <td>pascal</td>\n",
       "      <td>0:0</td>\n",
       "      <td>COMPLETED</td>\n",
       "    </tr>\n",
       "    <tr>\n",
       "      <th>1</th>\n",
       "      <td>32880701</td>\n",
       "      <td>glasshouse</td>\n",
       "      <td>brady</td>\n",
       "      <td>0</td>\n",
       "      <td>05:00:00</td>\n",
       "      <td>00:00:22</td>\n",
       "      <td>1</td>\n",
       "      <td>3</td>\n",
       "      <td>1</td>\n",
       "      <td>maxwell</td>\n",
       "      <td>0:0</td>\n",
       "      <td>COMPLETED</td>\n",
       "    </tr>\n",
       "    <tr>\n",
       "      <th>2</th>\n",
       "      <td>32880718</td>\n",
       "      <td>glasshouse</td>\n",
       "      <td>brady</td>\n",
       "      <td>402.32M</td>\n",
       "      <td>05:00:00</td>\n",
       "      <td>00:08:57</td>\n",
       "      <td>1</td>\n",
       "      <td>3</td>\n",
       "      <td>1</td>\n",
       "      <td>maxwell</td>\n",
       "      <td>0:0</td>\n",
       "      <td>COMPLETED</td>\n",
       "    </tr>\n",
       "    <tr>\n",
       "      <th>3</th>\n",
       "      <td>32880719</td>\n",
       "      <td>glasshouse</td>\n",
       "      <td>brady</td>\n",
       "      <td>417.62M</td>\n",
       "      <td>20:00:00</td>\n",
       "      <td>05:09:46</td>\n",
       "      <td>1</td>\n",
       "      <td>1</td>\n",
       "      <td>1</td>\n",
       "      <td>pascal</td>\n",
       "      <td>0:0</td>\n",
       "      <td>COMPLETED</td>\n",
       "    </tr>\n",
       "    <tr>\n",
       "      <th>4</th>\n",
       "      <td>32880720</td>\n",
       "      <td>glasshouse</td>\n",
       "      <td>brady</td>\n",
       "      <td>450.09M</td>\n",
       "      <td>15:00:00</td>\n",
       "      <td>04:11:10</td>\n",
       "      <td>1</td>\n",
       "      <td>1</td>\n",
       "      <td>1</td>\n",
       "      <td>pascal</td>\n",
       "      <td>0:0</td>\n",
       "      <td>COMPLETED</td>\n",
       "    </tr>\n",
       "    <tr>\n",
       "      <th>...</th>\n",
       "      <td>...</td>\n",
       "      <td>...</td>\n",
       "      <td>...</td>\n",
       "      <td>...</td>\n",
       "      <td>...</td>\n",
       "      <td>...</td>\n",
       "      <td>...</td>\n",
       "      <td>...</td>\n",
       "      <td>...</td>\n",
       "      <td>...</td>\n",
       "      <td>...</td>\n",
       "      <td>...</td>\n",
       "    </tr>\n",
       "    <tr>\n",
       "      <th>336933</th>\n",
       "      <td>46753813</td>\n",
       "      <td>harovin</td>\n",
       "      <td>shannon</td>\n",
       "      <td>137.96M</td>\n",
       "      <td>5-00:00:00</td>\n",
       "      <td>00:00:52</td>\n",
       "      <td>1</td>\n",
       "      <td>1</td>\n",
       "      <td>1</td>\n",
       "      <td>turing</td>\n",
       "      <td>0:0</td>\n",
       "      <td>COMPLETED</td>\n",
       "    </tr>\n",
       "    <tr>\n",
       "      <th>336934</th>\n",
       "      <td>46753820_26</td>\n",
       "      <td>harovin</td>\n",
       "      <td>porsha</td>\n",
       "      <td>5093.70M</td>\n",
       "      <td>5-00:00:00</td>\n",
       "      <td>00:34:51</td>\n",
       "      <td>1</td>\n",
       "      <td>6</td>\n",
       "      <td>1</td>\n",
       "      <td>turing</td>\n",
       "      <td>0:0</td>\n",
       "      <td>COMPLETED</td>\n",
       "    </tr>\n",
       "    <tr>\n",
       "      <th>336936</th>\n",
       "      <td>46753823</td>\n",
       "      <td>harovin</td>\n",
       "      <td>shannon</td>\n",
       "      <td>156.21M</td>\n",
       "      <td>5-00:00:00</td>\n",
       "      <td>00:04:03</td>\n",
       "      <td>1</td>\n",
       "      <td>1</td>\n",
       "      <td>1</td>\n",
       "      <td>turing</td>\n",
       "      <td>0:0</td>\n",
       "      <td>COMPLETED</td>\n",
       "    </tr>\n",
       "    <tr>\n",
       "      <th>336942</th>\n",
       "      <td>46754095</td>\n",
       "      <td>harovin</td>\n",
       "      <td>shannon</td>\n",
       "      <td>2820.52M</td>\n",
       "      <td>5-00:00:00</td>\n",
       "      <td>00:11:13</td>\n",
       "      <td>1</td>\n",
       "      <td>1</td>\n",
       "      <td>1</td>\n",
       "      <td>turing</td>\n",
       "      <td>0:0</td>\n",
       "      <td>COMPLETED</td>\n",
       "    </tr>\n",
       "    <tr>\n",
       "      <th>336948</th>\n",
       "      <td>46754598</td>\n",
       "      <td>glasshouse</td>\n",
       "      <td>treva</td>\n",
       "      <td>145.24M</td>\n",
       "      <td>1-00:00:00</td>\n",
       "      <td>00:01:26</td>\n",
       "      <td>1</td>\n",
       "      <td>5</td>\n",
       "      <td>1</td>\n",
       "      <td>turing</td>\n",
       "      <td>0:0</td>\n",
       "      <td>COMPLETED</td>\n",
       "    </tr>\n",
       "  </tbody>\n",
       "</table>\n",
       "<p>283333 rows × 12 columns</p>\n",
       "</div>"
      ],
      "text/plain": [
       "              JOBID     ACCOUNT     USER   USEDMEM     REQTIME  USEDTIME  \\\n",
       "0          32880657     malanga   arline    18.66M  2-00:00:00  00:13:13   \n",
       "1          32880701  glasshouse    brady         0    05:00:00  00:00:22   \n",
       "2          32880718  glasshouse    brady   402.32M    05:00:00  00:08:57   \n",
       "3          32880719  glasshouse    brady   417.62M    20:00:00  05:09:46   \n",
       "4          32880720  glasshouse    brady   450.09M    15:00:00  04:11:10   \n",
       "...             ...         ...      ...       ...         ...       ...   \n",
       "336933     46753813     harovin  shannon   137.96M  5-00:00:00  00:00:52   \n",
       "336934  46753820_26     harovin   porsha  5093.70M  5-00:00:00  00:34:51   \n",
       "336936     46753823     harovin  shannon   156.21M  5-00:00:00  00:04:03   \n",
       "336942     46754095     harovin  shannon  2820.52M  5-00:00:00  00:11:13   \n",
       "336948     46754598  glasshouse    treva   145.24M  1-00:00:00  00:01:26   \n",
       "\n",
       "        NODES  CPUS  GPUS PARTITION EXITCODE      STATE  \n",
       "0           1     2     1    pascal      0:0  COMPLETED  \n",
       "1           1     3     1   maxwell      0:0  COMPLETED  \n",
       "2           1     3     1   maxwell      0:0  COMPLETED  \n",
       "3           1     1     1    pascal      0:0  COMPLETED  \n",
       "4           1     1     1    pascal      0:0  COMPLETED  \n",
       "...       ...   ...   ...       ...      ...        ...  \n",
       "336933      1     1     1    turing      0:0  COMPLETED  \n",
       "336934      1     6     1    turing      0:0  COMPLETED  \n",
       "336936      1     1     1    turing      0:0  COMPLETED  \n",
       "336942      1     1     1    turing      0:0  COMPLETED  \n",
       "336948      1     5     1    turing      0:0  COMPLETED  \n",
       "\n",
       "[283333 rows x 12 columns]"
      ]
     },
     "execution_count": 4,
     "metadata": {},
     "output_type": "execute_result"
    }
   ],
   "source": [
    "# Use .copy when subsetting!!!!\n",
    "com_job=raw[raw[\"STATE\"] == 'COMPLETED'].copy()\n",
    "com_job"
   ]
  },
  {
   "cell_type": "markdown",
   "id": "0949da57",
   "metadata": {},
   "source": [
    "1. What is the distribution of per-GPU main memory usage over all runtime-weighed jobs in each partition? Knowing this will help ACCRE to understand our users memory needs for future hardware purchases."
   ]
  },
  {
   "cell_type": "code",
   "execution_count": 5,
   "id": "78070c8b",
   "metadata": {},
   "outputs": [],
   "source": [
    "#Stripping, cleaning, and type changing USEDMEM\n",
    "com_job['USEDMEM'] = com_job['USEDMEM'].str.replace('M', '').astype(float)\n",
    "#Stripping, cleaning, and type changing, and refactoring REQTIME\n",
    "com_job['REQTIME'] = pd.to_timedelta(com_job['REQTIME'].str.replace('-',' days ')).dt.total_seconds()\n",
    "#Calculated column for hours of requested time (Credit to team TWIX)\n",
    "com_job[\"req_time_hours\"] = com_job[\"REQTIME\"]/3600\n",
    "#Stripping, cleaning, and type changing, and refactoring USEDTIME\n",
    "com_job['USEDTIME'] = pd.to_timedelta(com_job['USEDTIME'].str.replace('-',' days ')).dt.total_seconds()\n",
    "#Calculated column for hours of used time (Credit to team TWIX)\n",
    "com_job[\"used_time_hours\"] = com_job[\"USEDTIME\"]/3600\n",
    "#Calculated column for ratio of used time and requested time(percent of time used of requested)\n",
    "com_job[\"req_used_ratio\"] = ((com_job['USEDTIME'] / com_job['REQTIME']))\n",
    "#Calculated column for difference in requested time and used time in seconds\n",
    "com_job[\"req_dif_sec\"] = ((com_job['REQTIME'] - com_job['USEDTIME']))\n",
    "#Calculated column for difference in requested and used time in hours\n",
    "com_job[\"req_dif_hour\"] = (com_job[\"REQTIME\"] - com_job[\"USEDTIME\"])/3600\n",
    "com_job['GPUS'] = com_job['GPUS'].astype(str).str.zfill(2)\n",
    "#Changing datatypes of columns (maybe very unnessisary)\n",
    "#com_job['CPUS'] = com_job['CPUS'].astype(str)\n",
    "#com_job['GPUS'] = com_job['GPUS'].astype(str)"
   ]
  },
  {
   "cell_type": "code",
   "execution_count": 6,
   "id": "cdb47a71",
   "metadata": {},
   "outputs": [
    {
     "name": "stdout",
     "output_type": "stream",
     "text": [
      "<class 'pandas.core.frame.DataFrame'>\n",
      "Int64Index: 283333 entries, 0 to 336948\n",
      "Data columns (total 17 columns):\n",
      " #   Column           Non-Null Count   Dtype  \n",
      "---  ------           --------------   -----  \n",
      " 0   JOBID            283333 non-null  object \n",
      " 1   ACCOUNT          283333 non-null  object \n",
      " 2   USER             283333 non-null  object \n",
      " 3   USEDMEM          283333 non-null  float64\n",
      " 4   REQTIME          283333 non-null  float64\n",
      " 5   USEDTIME         283333 non-null  float64\n",
      " 6   NODES            283333 non-null  int64  \n",
      " 7   CPUS             283333 non-null  int64  \n",
      " 8   GPUS             283333 non-null  object \n",
      " 9   PARTITION        283333 non-null  object \n",
      " 10  EXITCODE         283333 non-null  object \n",
      " 11  STATE            283333 non-null  object \n",
      " 12  req_time_hours   283333 non-null  float64\n",
      " 13  used_time_hours  283333 non-null  float64\n",
      " 14  req_used_ratio   283333 non-null  float64\n",
      " 15  req_dif_sec      283333 non-null  float64\n",
      " 16  req_dif_hour     283333 non-null  float64\n",
      "dtypes: float64(8), int64(2), object(7)\n",
      "memory usage: 38.9+ MB\n"
     ]
    }
   ],
   "source": [
    "# Would it be useful for the scheduler to know the difference between requested and used time.\n",
    "# Would it be useful to know the distribution of the ratio of requested vs. used time for specific users\n",
    "com_job.info()"
   ]
  },
  {
   "cell_type": "code",
   "execution_count": 7,
   "id": "2516c3e1",
   "metadata": {},
   "outputs": [
    {
     "data": {
      "text/html": [
       "<div>\n",
       "<style scoped>\n",
       "    .dataframe tbody tr th:only-of-type {\n",
       "        vertical-align: middle;\n",
       "    }\n",
       "\n",
       "    .dataframe tbody tr th {\n",
       "        vertical-align: top;\n",
       "    }\n",
       "\n",
       "    .dataframe thead th {\n",
       "        text-align: right;\n",
       "    }\n",
       "</style>\n",
       "<table border=\"1\" class=\"dataframe\">\n",
       "  <thead>\n",
       "    <tr style=\"text-align: right;\">\n",
       "      <th></th>\n",
       "      <th>JOBID</th>\n",
       "      <th>ACCOUNT</th>\n",
       "      <th>USER</th>\n",
       "      <th>USEDMEM</th>\n",
       "      <th>REQTIME</th>\n",
       "      <th>USEDTIME</th>\n",
       "      <th>NODES</th>\n",
       "      <th>CPUS</th>\n",
       "      <th>GPUS</th>\n",
       "      <th>PARTITION</th>\n",
       "      <th>EXITCODE</th>\n",
       "      <th>STATE</th>\n",
       "      <th>req_time_hours</th>\n",
       "      <th>used_time_hours</th>\n",
       "      <th>req_used_ratio</th>\n",
       "      <th>req_dif_sec</th>\n",
       "      <th>req_dif_hour</th>\n",
       "    </tr>\n",
       "  </thead>\n",
       "  <tbody>\n",
       "    <tr>\n",
       "      <th>0</th>\n",
       "      <td>32880657</td>\n",
       "      <td>malanga</td>\n",
       "      <td>arline</td>\n",
       "      <td>18.66</td>\n",
       "      <td>172800.0</td>\n",
       "      <td>793.0</td>\n",
       "      <td>1</td>\n",
       "      <td>2</td>\n",
       "      <td>01</td>\n",
       "      <td>pascal</td>\n",
       "      <td>0:0</td>\n",
       "      <td>COMPLETED</td>\n",
       "      <td>48.0</td>\n",
       "      <td>0.220278</td>\n",
       "      <td>0.004589</td>\n",
       "      <td>172007.0</td>\n",
       "      <td>47.779722</td>\n",
       "    </tr>\n",
       "  </tbody>\n",
       "</table>\n",
       "</div>"
      ],
      "text/plain": [
       "      JOBID  ACCOUNT    USER  USEDMEM   REQTIME  USEDTIME  NODES  CPUS GPUS  \\\n",
       "0  32880657  malanga  arline    18.66  172800.0     793.0      1     2   01   \n",
       "\n",
       "  PARTITION EXITCODE      STATE  req_time_hours  used_time_hours  \\\n",
       "0    pascal      0:0  COMPLETED            48.0         0.220278   \n",
       "\n",
       "   req_used_ratio  req_dif_sec  req_dif_hour  \n",
       "0        0.004589     172007.0     47.779722  "
      ]
     },
     "execution_count": 7,
     "metadata": {},
     "output_type": "execute_result"
    }
   ],
   "source": [
    "com_job.head(n=1)"
   ]
  },
  {
   "cell_type": "code",
   "execution_count": 23,
   "id": "501a2703",
   "metadata": {
    "collapsed": true
   },
   "outputs": [
    {
     "data": {
      "text/plain": [
       "almonds             189\n",
       "antares            3203\n",
       "apple                45\n",
       "bertanne            195\n",
       "bunch                 1\n",
       "cactus              113\n",
       "clara                76\n",
       "gem                  19\n",
       "glasshouse       237060\n",
       "grisette           5786\n",
       "harovin            4729\n",
       "horseradish          48\n",
       "kinnow              380\n",
       "malanga            9901\n",
       "orange               74\n",
       "packham               7\n",
       "pasilla            1329\n",
       "pecans              609\n",
       "pinole               19\n",
       "plumcot            1027\n",
       "prince             7459\n",
       "rosemarie            55\n",
       "sugranineteen        31\n",
       "summer                1\n",
       "sunburst           1390\n",
       "virginia           9556\n",
       "white                31\n",
       "Name: ACCOUNT, dtype: int64"
      ]
     },
     "execution_count": 23,
     "metadata": {},
     "output_type": "execute_result"
    }
   ],
   "source": [
    "#Count of all jobs by account across all Partitions.\n",
    "com_job['ACCOUNT'].value_counts().sort_index()"
   ]
  },
  {
   "cell_type": "code",
   "execution_count": 24,
   "id": "342fbbd4",
   "metadata": {},
   "outputs": [
    {
     "data": {
      "text/plain": [
       "array(['pascal', 'maxwell', 'turing'], dtype=object)"
      ]
     },
     "execution_count": 24,
     "metadata": {},
     "output_type": "execute_result"
    }
   ],
   "source": [
    "#unique partitions\n",
    "com_job['PARTITION'].unique()"
   ]
  },
  {
   "cell_type": "code",
   "execution_count": 10,
   "id": "5ac976d5",
   "metadata": {},
   "outputs": [
    {
     "data": {
      "text/plain": [
       "count    283333.000000\n",
       "mean          0.054817\n",
       "std           0.154017\n",
       "min           0.000000\n",
       "25%           0.001139\n",
       "50%           0.005472\n",
       "75%           0.014468\n",
       "max           1.934722\n",
       "Name: req_used_ratio, dtype: float64"
      ]
     },
     "execution_count": 10,
     "metadata": {},
     "output_type": "execute_result"
    }
   ],
   "source": [
    "# Overall distribution of the percent of actual time used vs. requested time.\n",
    "# Across all partitions, the average user utiliezed 5.5% of the time that they requested\n",
    "#IQR - 0.013329.  At-least half of all users only utilize 1.3% percent of the times they request.\n",
    "\n",
    "com_job[\"req_used_ratio\"].describe()\n"
   ]
  },
  {
   "cell_type": "code",
   "execution_count": 11,
   "id": "836ff2bb",
   "metadata": {
    "scrolled": false
   },
   "outputs": [
    {
     "data": {
      "text/html": [
       "<div>\n",
       "<style scoped>\n",
       "    .dataframe tbody tr th:only-of-type {\n",
       "        vertical-align: middle;\n",
       "    }\n",
       "\n",
       "    .dataframe tbody tr th {\n",
       "        vertical-align: top;\n",
       "    }\n",
       "\n",
       "    .dataframe thead th {\n",
       "        text-align: right;\n",
       "    }\n",
       "</style>\n",
       "<table border=\"1\" class=\"dataframe\">\n",
       "  <thead>\n",
       "    <tr style=\"text-align: right;\">\n",
       "      <th></th>\n",
       "      <th>count</th>\n",
       "      <th>mean</th>\n",
       "      <th>std</th>\n",
       "      <th>min</th>\n",
       "      <th>25%</th>\n",
       "      <th>50%</th>\n",
       "      <th>75%</th>\n",
       "      <th>max</th>\n",
       "    </tr>\n",
       "    <tr>\n",
       "      <th>PARTITION</th>\n",
       "      <th></th>\n",
       "      <th></th>\n",
       "      <th></th>\n",
       "      <th></th>\n",
       "      <th></th>\n",
       "      <th></th>\n",
       "      <th></th>\n",
       "      <th></th>\n",
       "    </tr>\n",
       "  </thead>\n",
       "  <tbody>\n",
       "    <tr>\n",
       "      <th>maxwell</th>\n",
       "      <td>127043.0</td>\n",
       "      <td>0.017691</td>\n",
       "      <td>0.088038</td>\n",
       "      <td>0.0</td>\n",
       "      <td>0.000278</td>\n",
       "      <td>0.005000</td>\n",
       "      <td>0.006222</td>\n",
       "      <td>1.100000</td>\n",
       "    </tr>\n",
       "    <tr>\n",
       "      <th>pascal</th>\n",
       "      <td>81314.0</td>\n",
       "      <td>0.088328</td>\n",
       "      <td>0.215047</td>\n",
       "      <td>0.0</td>\n",
       "      <td>0.001275</td>\n",
       "      <td>0.004921</td>\n",
       "      <td>0.018819</td>\n",
       "      <td>1.483333</td>\n",
       "    </tr>\n",
       "    <tr>\n",
       "      <th>turing</th>\n",
       "      <td>74976.0</td>\n",
       "      <td>0.081381</td>\n",
       "      <td>0.148649</td>\n",
       "      <td>0.0</td>\n",
       "      <td>0.003611</td>\n",
       "      <td>0.027500</td>\n",
       "      <td>0.108889</td>\n",
       "      <td>1.934722</td>\n",
       "    </tr>\n",
       "  </tbody>\n",
       "</table>\n",
       "</div>"
      ],
      "text/plain": [
       "              count      mean       std  min       25%       50%       75%  \\\n",
       "PARTITION                                                                    \n",
       "maxwell    127043.0  0.017691  0.088038  0.0  0.000278  0.005000  0.006222   \n",
       "pascal      81314.0  0.088328  0.215047  0.0  0.001275  0.004921  0.018819   \n",
       "turing      74976.0  0.081381  0.148649  0.0  0.003611  0.027500  0.108889   \n",
       "\n",
       "                max  \n",
       "PARTITION            \n",
       "maxwell    1.100000  \n",
       "pascal     1.483333  \n",
       "turing     1.934722  "
      ]
     },
     "execution_count": 11,
     "metadata": {},
     "output_type": "execute_result"
    }
   ],
   "source": [
    "#Distribution of percent of actual time used vs. requested time\n",
    "com_job.groupby('PARTITION')['req_used_ratio'].describe()"
   ]
  },
  {
   "cell_type": "markdown",
   "id": "096cfb29",
   "metadata": {},
   "source": [
    "- maxwell \n",
    "    - average  use use/request ratio of 1.8% (0.017691)\n",
    "    - 50% of maxwell users utilize 6% (IQR = 0.005944) of the time that they requested\n",
    "- pascal\n",
    "    - average  use use/request ratio of 8.8% (0.088328) of the requested time\n",
    "    - 50% of pascal users utilize 1.8% (IQR = 0.017544) of the time that they requested\n",
    "- turing \n",
    "    - average  use use/request ratio of 8.1% (0.081381)of the requested time\n",
    "    - 50% of pascal users utilize 1.8% (IQR = 0.017544) of the time that they requested"
   ]
  },
  {
   "cell_type": "code",
   "execution_count": 28,
   "id": "22b71adf",
   "metadata": {
    "scrolled": true
   },
   "outputs": [
    {
     "data": {
      "text/plain": [
       "<matplotlib.lines.Line2D at 0x7fd34f242670>"
      ]
     },
     "execution_count": 28,
     "metadata": {},
     "output_type": "execute_result"
    },
    {
     "data": {
      "image/png": "[encoded data removed]",
      "text/plain": [
       "<Figure size 432x288 with 1 Axes>"
      ]
     },
     "metadata": {
      "needs_background": "light"
     },
     "output_type": "display_data"
    }
   ],
   "source": [
    "#USAGE RATIO OF GPUS Across Maxwell Partition\n",
    "plot_df = com_job.loc[com_job['PARTITION'] == 'maxwell'].sort_values('GPUS')\n",
    "plt.scatter(plot_df['GPUS'], plot_df[\"req_used_ratio\"], alpha = 0.1)\n",
    "plt.xlabel(\"GPUS USED\")\n",
    "plt.ylabel(\"Percent of Requested Time Used\")\n",
    "plt.title(\"Maxwell Usage Ratio per GPU\")\n",
    "plt.axhline(y=1, color='r', linestyle='--')"
   ]
  },
  {
   "cell_type": "code",
   "execution_count": 30,
   "id": "748424c5",
   "metadata": {
    "scrolled": true
   },
   "outputs": [
    {
     "data": {
      "text/plain": [
       "<matplotlib.lines.Line2D at 0x7fd34ee8ca90>"
      ]
     },
     "execution_count": 30,
     "metadata": {},
     "output_type": "execute_result"
    },
    {
     "data": {
      "image/png": "[encoded data removed]",
      "text/plain": [
       "<Figure size 432x288 with 1 Axes>"
      ]
     },
     "metadata": {
      "needs_background": "light"
     },
     "output_type": "display_data"
    }
   ],
   "source": [
    "#USAGE RATIO OF GPUS Across Pascal Partition\n",
    "plot_df = com_job.loc[com_job['PARTITION'] == 'pascal'].sort_values('GPUS')\n",
    "plt.scatter(plot_df['GPUS'], plot_df[\"req_used_ratio\"], alpha = 0.1)\n",
    "plt.xlabel(\"GPUS USED\")\n",
    "plt.ylabel(\"Percent of Requested Time Used\")\n",
    "plt.title(\"Pascal Usage Ratio per GPU\")\n",
    "plt.axhline(y=1, color='g', linestyle='--')"
   ]
  },
  {
   "cell_type": "code",
   "execution_count": 33,
   "id": "c58d5fd9",
   "metadata": {},
   "outputs": [
    {
     "data": {
      "text/plain": [
       "<matplotlib.lines.Line2D at 0x7fd35afc70a0>"
      ]
     },
     "execution_count": 33,
     "metadata": {},
     "output_type": "execute_result"
    },
    {
     "data": {
      "image/png": "[encoded data removed]",
      "text/plain": [
       "<Figure size 432x288 with 1 Axes>"
      ]
     },
     "metadata": {
      "needs_background": "light"
     },
     "output_type": "display_data"
    }
   ],
   "source": [
    "#USAGE RATIO OF GPUS Across Turing Partition\n",
    "plot_df = com_job.loc[com_job['PARTITION'] == 'turing'].sort_values('GPUS')\n",
    "plt.scatter(plot_df['GPUS'], plot_df[\"req_used_ratio\"], alpha = 0.1)\n",
    "plt.xlabel(\"GPUS USED\")\n",
    "plt.ylabel(\"Percent of Requested Time Used\")\n",
    "plt.title(\"Turing Usage Ratio per GPU\")\n",
    "plt.axhline(y=1, color='g', linestyle='--')"
   ]
  },
  {
   "cell_type": "code",
   "execution_count": 35,
   "id": "1419f5b3",
   "metadata": {},
   "outputs": [
    {
     "data": {
      "text/html": [
       "<div>\n",
       "<style scoped>\n",
       "    .dataframe tbody tr th:only-of-type {\n",
       "        vertical-align: middle;\n",
       "    }\n",
       "\n",
       "    .dataframe tbody tr th {\n",
       "        vertical-align: top;\n",
       "    }\n",
       "\n",
       "    .dataframe thead th {\n",
       "        text-align: right;\n",
       "    }\n",
       "</style>\n",
       "<table border=\"1\" class=\"dataframe\">\n",
       "  <thead>\n",
       "    <tr style=\"text-align: right;\">\n",
       "      <th></th>\n",
       "      <th>count</th>\n",
       "      <th>mean</th>\n",
       "      <th>std</th>\n",
       "      <th>min</th>\n",
       "      <th>25%</th>\n",
       "      <th>50%</th>\n",
       "      <th>75%</th>\n",
       "      <th>max</th>\n",
       "    </tr>\n",
       "    <tr>\n",
       "      <th>GPUS</th>\n",
       "      <th></th>\n",
       "      <th></th>\n",
       "      <th></th>\n",
       "      <th></th>\n",
       "      <th></th>\n",
       "      <th></th>\n",
       "      <th></th>\n",
       "      <th></th>\n",
       "    </tr>\n",
       "  </thead>\n",
       "  <tbody>\n",
       "    <tr>\n",
       "      <th>01</th>\n",
       "      <td>274861.0</td>\n",
       "      <td>0.052625</td>\n",
       "      <td>0.148062</td>\n",
       "      <td>0.000000</td>\n",
       "      <td>0.001139</td>\n",
       "      <td>0.005444</td>\n",
       "      <td>0.013488</td>\n",
       "      <td>1.934722</td>\n",
       "    </tr>\n",
       "    <tr>\n",
       "      <th>02</th>\n",
       "      <td>5470.0</td>\n",
       "      <td>0.072503</td>\n",
       "      <td>0.210354</td>\n",
       "      <td>0.000005</td>\n",
       "      <td>0.002283</td>\n",
       "      <td>0.008532</td>\n",
       "      <td>0.027506</td>\n",
       "      <td>1.418015</td>\n",
       "    </tr>\n",
       "    <tr>\n",
       "      <th>03</th>\n",
       "      <td>107.0</td>\n",
       "      <td>0.336250</td>\n",
       "      <td>0.429452</td>\n",
       "      <td>0.000019</td>\n",
       "      <td>0.000405</td>\n",
       "      <td>0.051076</td>\n",
       "      <td>0.860057</td>\n",
       "      <td>1.004028</td>\n",
       "    </tr>\n",
       "    <tr>\n",
       "      <th>04</th>\n",
       "      <td>1831.0</td>\n",
       "      <td>0.301966</td>\n",
       "      <td>0.391386</td>\n",
       "      <td>0.000000</td>\n",
       "      <td>0.000557</td>\n",
       "      <td>0.028935</td>\n",
       "      <td>0.507711</td>\n",
       "      <td>1.029167</td>\n",
       "    </tr>\n",
       "    <tr>\n",
       "      <th>06</th>\n",
       "      <td>44.0</td>\n",
       "      <td>0.106673</td>\n",
       "      <td>0.118232</td>\n",
       "      <td>0.000017</td>\n",
       "      <td>0.001205</td>\n",
       "      <td>0.042514</td>\n",
       "      <td>0.217052</td>\n",
       "      <td>0.426681</td>\n",
       "    </tr>\n",
       "    <tr>\n",
       "      <th>08</th>\n",
       "      <td>517.0</td>\n",
       "      <td>0.078108</td>\n",
       "      <td>0.171366</td>\n",
       "      <td>0.000000</td>\n",
       "      <td>0.000028</td>\n",
       "      <td>0.001460</td>\n",
       "      <td>0.059025</td>\n",
       "      <td>1.000017</td>\n",
       "    </tr>\n",
       "    <tr>\n",
       "      <th>12</th>\n",
       "      <td>165.0</td>\n",
       "      <td>0.061489</td>\n",
       "      <td>0.179146</td>\n",
       "      <td>0.000000</td>\n",
       "      <td>0.000019</td>\n",
       "      <td>0.000056</td>\n",
       "      <td>0.011108</td>\n",
       "      <td>0.996840</td>\n",
       "    </tr>\n",
       "    <tr>\n",
       "      <th>16</th>\n",
       "      <td>276.0</td>\n",
       "      <td>0.068949</td>\n",
       "      <td>0.150855</td>\n",
       "      <td>0.000007</td>\n",
       "      <td>0.000183</td>\n",
       "      <td>0.007300</td>\n",
       "      <td>0.047096</td>\n",
       "      <td>0.804269</td>\n",
       "    </tr>\n",
       "    <tr>\n",
       "      <th>18</th>\n",
       "      <td>4.0</td>\n",
       "      <td>0.064014</td>\n",
       "      <td>0.092566</td>\n",
       "      <td>0.001722</td>\n",
       "      <td>0.018660</td>\n",
       "      <td>0.026292</td>\n",
       "      <td>0.071646</td>\n",
       "      <td>0.201750</td>\n",
       "    </tr>\n",
       "    <tr>\n",
       "      <th>20</th>\n",
       "      <td>1.0</td>\n",
       "      <td>0.000012</td>\n",
       "      <td>NaN</td>\n",
       "      <td>0.000012</td>\n",
       "      <td>0.000012</td>\n",
       "      <td>0.000012</td>\n",
       "      <td>0.000012</td>\n",
       "      <td>0.000012</td>\n",
       "    </tr>\n",
       "    <tr>\n",
       "      <th>24</th>\n",
       "      <td>45.0</td>\n",
       "      <td>0.129580</td>\n",
       "      <td>0.206918</td>\n",
       "      <td>0.000014</td>\n",
       "      <td>0.000347</td>\n",
       "      <td>0.023750</td>\n",
       "      <td>0.145819</td>\n",
       "      <td>0.871611</td>\n",
       "    </tr>\n",
       "    <tr>\n",
       "      <th>32</th>\n",
       "      <td>5.0</td>\n",
       "      <td>0.222272</td>\n",
       "      <td>0.204949</td>\n",
       "      <td>0.000694</td>\n",
       "      <td>0.068986</td>\n",
       "      <td>0.188972</td>\n",
       "      <td>0.352139</td>\n",
       "      <td>0.500569</td>\n",
       "    </tr>\n",
       "    <tr>\n",
       "      <th>40</th>\n",
       "      <td>5.0</td>\n",
       "      <td>0.024611</td>\n",
       "      <td>0.048082</td>\n",
       "      <td>0.000833</td>\n",
       "      <td>0.001667</td>\n",
       "      <td>0.005000</td>\n",
       "      <td>0.005000</td>\n",
       "      <td>0.110556</td>\n",
       "    </tr>\n",
       "    <tr>\n",
       "      <th>60</th>\n",
       "      <td>2.0</td>\n",
       "      <td>0.002083</td>\n",
       "      <td>0.000589</td>\n",
       "      <td>0.001667</td>\n",
       "      <td>0.001875</td>\n",
       "      <td>0.002083</td>\n",
       "      <td>0.002292</td>\n",
       "      <td>0.002500</td>\n",
       "    </tr>\n",
       "  </tbody>\n",
       "</table>\n",
       "</div>"
      ],
      "text/plain": [
       "         count      mean       std       min       25%       50%       75%  \\\n",
       "GPUS                                                                         \n",
       "01    274861.0  0.052625  0.148062  0.000000  0.001139  0.005444  0.013488   \n",
       "02      5470.0  0.072503  0.210354  0.000005  0.002283  0.008532  0.027506   \n",
       "03       107.0  0.336250  0.429452  0.000019  0.000405  0.051076  0.860057   \n",
       "04      1831.0  0.301966  0.391386  0.000000  0.000557  0.028935  0.507711   \n",
       "06        44.0  0.106673  0.118232  0.000017  0.001205  0.042514  0.217052   \n",
       "08       517.0  0.078108  0.171366  0.000000  0.000028  0.001460  0.059025   \n",
       "12       165.0  0.061489  0.179146  0.000000  0.000019  0.000056  0.011108   \n",
       "16       276.0  0.068949  0.150855  0.000007  0.000183  0.007300  0.047096   \n",
       "18         4.0  0.064014  0.092566  0.001722  0.018660  0.026292  0.071646   \n",
       "20         1.0  0.000012       NaN  0.000012  0.000012  0.000012  0.000012   \n",
       "24        45.0  0.129580  0.206918  0.000014  0.000347  0.023750  0.145819   \n",
       "32         5.0  0.222272  0.204949  0.000694  0.068986  0.188972  0.352139   \n",
       "40         5.0  0.024611  0.048082  0.000833  0.001667  0.005000  0.005000   \n",
       "60         2.0  0.002083  0.000589  0.001667  0.001875  0.002083  0.002292   \n",
       "\n",
       "           max  \n",
       "GPUS            \n",
       "01    1.934722  \n",
       "02    1.418015  \n",
       "03    1.004028  \n",
       "04    1.029167  \n",
       "06    0.426681  \n",
       "08    1.000017  \n",
       "12    0.996840  \n",
       "16    0.804269  \n",
       "18    0.201750  \n",
       "20    0.000012  \n",
       "24    0.871611  \n",
       "32    0.500569  \n",
       "40    0.110556  \n",
       "60    0.002500  "
      ]
     },
     "execution_count": 35,
     "metadata": {},
     "output_type": "execute_result"
    }
   ],
   "source": [
    "#Distribution of usage ratio for GPUS across all partitions.\n",
    "com_job.groupby('GPUS')['req_used_ratio'].describe()"
   ]
  }
 ],
 "metadata": {
  "kernelspec": {
   "display_name": "Python 3 (ipykernel)",
   "language": "python",
   "name": "python3"
  },
  "language_info": {
   "codemirror_mode": {
    "name": "ipython",
    "version": 3
   },
   "file_extension": ".py",
   "mimetype": "text/x-python",
   "name": "python",
   "nbconvert_exporter": "python",
   "pygments_lexer": "ipython3",
   "version": "3.9.12"
  }
 },
 "nbformat": 4,
 "nbformat_minor": 5
}
