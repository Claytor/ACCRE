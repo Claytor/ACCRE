{
 "cells": [
  {
   "cell_type": "code",
   "execution_count": 2,
   "id": "27961785",
   "metadata": {},
   "outputs": [],
   "source": [
    "import pandas as pd"
   ]
  },
  {
   "cell_type": "markdown",
   "id": "f5f2aa3d",
   "metadata": {},
   "source": [
    "ACCRE has three scheduler partitions that groups can get access to which consist of machines each with 4 GPU cards. Each partition is named after the nvidia processor generation that it contains, from oldest to newest: maxwell, pascal, and turing. GPU nodes are requested per-GPU, and users can request up to 4 GPUs per node. For each GPU the user is allocated up to one quarter of the machine's RAM and CPU cores. All of the current GPU-accelerated hardware is also connected to a special high-speed RoCE (RDMA over converged ethernet) network allowing for memory sharing on large-scale multi-GPU jobs, so users can also request multiple servers for analysis that requires more than four GPU cards."
   ]
  },
  {
   "cell_type": "markdown",
   "id": "857c195f",
   "metadata": {},
   "source": [
    "Import Dataframe"
   ]
  },
  {
   "cell_type": "code",
   "execution_count": 35,
   "id": "43a50dcf",
   "metadata": {
    "scrolled": false
   },
   "outputs": [
    {
     "name": "stderr",
     "output_type": "stream",
     "text": [
      "/tmp/ipykernel_11865/3904122298.py:1: FutureWarning: The error_bad_lines argument has been deprecated and will be removed in a future version. Use on_bad_lines in the future.\n",
      "\n",
      "\n",
      "  raw = pd.read_csv('../data/accre-gpu-jobs-2022-v2.csv',\n",
      "Skipping line 124084: Expected 12 fields in line 124084, saw 13\n",
      "Skipping line 124809: Expected 12 fields in line 124809, saw 13\n"
     ]
    }
   ],
   "source": [
    "raw = pd.read_csv('../data/accre-gpu-jobs-2022-v2.csv',\n",
    "                 error_bad_lines=False,\n",
    "                 engine='python'\n",
    "                ) "
   ]
  },
  {
   "cell_type": "code",
   "execution_count": 11,
   "id": "d1eeb9cb",
   "metadata": {
    "collapsed": true
   },
   "outputs": [
    {
     "name": "stdout",
     "output_type": "stream",
     "text": [
      "<class 'pandas.core.frame.DataFrame'>\n",
      "RangeIndex: 336950 entries, 0 to 336949\n",
      "Data columns (total 12 columns):\n",
      " #   Column     Non-Null Count   Dtype \n",
      "---  ------     --------------   ----- \n",
      " 0   JOBID      336950 non-null  object\n",
      " 1   ACCOUNT    336950 non-null  object\n",
      " 2   USER       336950 non-null  object\n",
      " 3   USEDMEM    336950 non-null  object\n",
      " 4   REQTIME    336950 non-null  object\n",
      " 5   USEDTIME   336950 non-null  object\n",
      " 6   NODES      336950 non-null  int64 \n",
      " 7   CPUS       336950 non-null  int64 \n",
      " 8   GPUS       336950 non-null  int64 \n",
      " 9   PARTITION  336950 non-null  object\n",
      " 10  EXITCODE   336950 non-null  object\n",
      " 11  STATE      336950 non-null  object\n",
      "dtypes: int64(3), object(9)\n",
      "memory usage: 30.8+ MB\n"
     ]
    }
   ],
   "source": [
    "df.info()"
   ]
  },
  {
   "cell_type": "code",
   "execution_count": 36,
   "id": "40833251",
   "metadata": {},
   "outputs": [
    {
     "data": {
      "text/html": [
       "<div>\n",
       "<style scoped>\n",
       "    .dataframe tbody tr th:only-of-type {\n",
       "        vertical-align: middle;\n",
       "    }\n",
       "\n",
       "    .dataframe tbody tr th {\n",
       "        vertical-align: top;\n",
       "    }\n",
       "\n",
       "    .dataframe thead th {\n",
       "        text-align: right;\n",
       "    }\n",
       "</style>\n",
       "<table border=\"1\" class=\"dataframe\">\n",
       "  <thead>\n",
       "    <tr style=\"text-align: right;\">\n",
       "      <th></th>\n",
       "      <th>JOBID</th>\n",
       "      <th>ACCOUNT</th>\n",
       "      <th>USER</th>\n",
       "      <th>USEDMEM</th>\n",
       "      <th>REQTIME</th>\n",
       "      <th>USEDTIME</th>\n",
       "      <th>NODES</th>\n",
       "      <th>CPUS</th>\n",
       "      <th>GPUS</th>\n",
       "      <th>PARTITION</th>\n",
       "      <th>EXITCODE</th>\n",
       "      <th>STATE</th>\n",
       "    </tr>\n",
       "  </thead>\n",
       "  <tbody>\n",
       "    <tr>\n",
       "      <th>0</th>\n",
       "      <td>32880657</td>\n",
       "      <td>malanga</td>\n",
       "      <td>arline</td>\n",
       "      <td>18.66M</td>\n",
       "      <td>2-00:00:00</td>\n",
       "      <td>00:13:13</td>\n",
       "      <td>1</td>\n",
       "      <td>2</td>\n",
       "      <td>1</td>\n",
       "      <td>pascal</td>\n",
       "      <td>0:0</td>\n",
       "      <td>COMPLETED</td>\n",
       "    </tr>\n",
       "    <tr>\n",
       "      <th>1</th>\n",
       "      <td>32880701</td>\n",
       "      <td>glasshouse</td>\n",
       "      <td>brady</td>\n",
       "      <td>0</td>\n",
       "      <td>05:00:00</td>\n",
       "      <td>00:00:22</td>\n",
       "      <td>1</td>\n",
       "      <td>3</td>\n",
       "      <td>1</td>\n",
       "      <td>maxwell</td>\n",
       "      <td>0:0</td>\n",
       "      <td>COMPLETED</td>\n",
       "    </tr>\n",
       "    <tr>\n",
       "      <th>2</th>\n",
       "      <td>32880718</td>\n",
       "      <td>glasshouse</td>\n",
       "      <td>brady</td>\n",
       "      <td>402.32M</td>\n",
       "      <td>05:00:00</td>\n",
       "      <td>00:08:57</td>\n",
       "      <td>1</td>\n",
       "      <td>3</td>\n",
       "      <td>1</td>\n",
       "      <td>maxwell</td>\n",
       "      <td>0:0</td>\n",
       "      <td>COMPLETED</td>\n",
       "    </tr>\n",
       "    <tr>\n",
       "      <th>3</th>\n",
       "      <td>32880719</td>\n",
       "      <td>glasshouse</td>\n",
       "      <td>brady</td>\n",
       "      <td>417.62M</td>\n",
       "      <td>20:00:00</td>\n",
       "      <td>05:09:46</td>\n",
       "      <td>1</td>\n",
       "      <td>1</td>\n",
       "      <td>1</td>\n",
       "      <td>pascal</td>\n",
       "      <td>0:0</td>\n",
       "      <td>COMPLETED</td>\n",
       "    </tr>\n",
       "    <tr>\n",
       "      <th>4</th>\n",
       "      <td>32880720</td>\n",
       "      <td>glasshouse</td>\n",
       "      <td>brady</td>\n",
       "      <td>450.09M</td>\n",
       "      <td>15:00:00</td>\n",
       "      <td>04:11:10</td>\n",
       "      <td>1</td>\n",
       "      <td>1</td>\n",
       "      <td>1</td>\n",
       "      <td>pascal</td>\n",
       "      <td>0:0</td>\n",
       "      <td>COMPLETED</td>\n",
       "    </tr>\n",
       "    <tr>\n",
       "      <th>...</th>\n",
       "      <td>...</td>\n",
       "      <td>...</td>\n",
       "      <td>...</td>\n",
       "      <td>...</td>\n",
       "      <td>...</td>\n",
       "      <td>...</td>\n",
       "      <td>...</td>\n",
       "      <td>...</td>\n",
       "      <td>...</td>\n",
       "      <td>...</td>\n",
       "      <td>...</td>\n",
       "      <td>...</td>\n",
       "    </tr>\n",
       "    <tr>\n",
       "      <th>336933</th>\n",
       "      <td>46753813</td>\n",
       "      <td>harovin</td>\n",
       "      <td>shannon</td>\n",
       "      <td>137.96M</td>\n",
       "      <td>5-00:00:00</td>\n",
       "      <td>00:00:52</td>\n",
       "      <td>1</td>\n",
       "      <td>1</td>\n",
       "      <td>1</td>\n",
       "      <td>turing</td>\n",
       "      <td>0:0</td>\n",
       "      <td>COMPLETED</td>\n",
       "    </tr>\n",
       "    <tr>\n",
       "      <th>336934</th>\n",
       "      <td>46753820_26</td>\n",
       "      <td>harovin</td>\n",
       "      <td>porsha</td>\n",
       "      <td>5093.70M</td>\n",
       "      <td>5-00:00:00</td>\n",
       "      <td>00:34:51</td>\n",
       "      <td>1</td>\n",
       "      <td>6</td>\n",
       "      <td>1</td>\n",
       "      <td>turing</td>\n",
       "      <td>0:0</td>\n",
       "      <td>COMPLETED</td>\n",
       "    </tr>\n",
       "    <tr>\n",
       "      <th>336936</th>\n",
       "      <td>46753823</td>\n",
       "      <td>harovin</td>\n",
       "      <td>shannon</td>\n",
       "      <td>156.21M</td>\n",
       "      <td>5-00:00:00</td>\n",
       "      <td>00:04:03</td>\n",
       "      <td>1</td>\n",
       "      <td>1</td>\n",
       "      <td>1</td>\n",
       "      <td>turing</td>\n",
       "      <td>0:0</td>\n",
       "      <td>COMPLETED</td>\n",
       "    </tr>\n",
       "    <tr>\n",
       "      <th>336942</th>\n",
       "      <td>46754095</td>\n",
       "      <td>harovin</td>\n",
       "      <td>shannon</td>\n",
       "      <td>2820.52M</td>\n",
       "      <td>5-00:00:00</td>\n",
       "      <td>00:11:13</td>\n",
       "      <td>1</td>\n",
       "      <td>1</td>\n",
       "      <td>1</td>\n",
       "      <td>turing</td>\n",
       "      <td>0:0</td>\n",
       "      <td>COMPLETED</td>\n",
       "    </tr>\n",
       "    <tr>\n",
       "      <th>336948</th>\n",
       "      <td>46754598</td>\n",
       "      <td>glasshouse</td>\n",
       "      <td>treva</td>\n",
       "      <td>145.24M</td>\n",
       "      <td>1-00:00:00</td>\n",
       "      <td>00:01:26</td>\n",
       "      <td>1</td>\n",
       "      <td>5</td>\n",
       "      <td>1</td>\n",
       "      <td>turing</td>\n",
       "      <td>0:0</td>\n",
       "      <td>COMPLETED</td>\n",
       "    </tr>\n",
       "  </tbody>\n",
       "</table>\n",
       "<p>283333 rows × 12 columns</p>\n",
       "</div>"
      ],
      "text/plain": [
       "              JOBID     ACCOUNT     USER   USEDMEM     REQTIME  USEDTIME  \\\n",
       "0          32880657     malanga   arline    18.66M  2-00:00:00  00:13:13   \n",
       "1          32880701  glasshouse    brady         0    05:00:00  00:00:22   \n",
       "2          32880718  glasshouse    brady   402.32M    05:00:00  00:08:57   \n",
       "3          32880719  glasshouse    brady   417.62M    20:00:00  05:09:46   \n",
       "4          32880720  glasshouse    brady   450.09M    15:00:00  04:11:10   \n",
       "...             ...         ...      ...       ...         ...       ...   \n",
       "336933     46753813     harovin  shannon   137.96M  5-00:00:00  00:00:52   \n",
       "336934  46753820_26     harovin   porsha  5093.70M  5-00:00:00  00:34:51   \n",
       "336936     46753823     harovin  shannon   156.21M  5-00:00:00  00:04:03   \n",
       "336942     46754095     harovin  shannon  2820.52M  5-00:00:00  00:11:13   \n",
       "336948     46754598  glasshouse    treva   145.24M  1-00:00:00  00:01:26   \n",
       "\n",
       "        NODES  CPUS  GPUS PARTITION EXITCODE      STATE  \n",
       "0           1     2     1    pascal      0:0  COMPLETED  \n",
       "1           1     3     1   maxwell      0:0  COMPLETED  \n",
       "2           1     3     1   maxwell      0:0  COMPLETED  \n",
       "3           1     1     1    pascal      0:0  COMPLETED  \n",
       "4           1     1     1    pascal      0:0  COMPLETED  \n",
       "...       ...   ...   ...       ...      ...        ...  \n",
       "336933      1     1     1    turing      0:0  COMPLETED  \n",
       "336934      1     6     1    turing      0:0  COMPLETED  \n",
       "336936      1     1     1    turing      0:0  COMPLETED  \n",
       "336942      1     1     1    turing      0:0  COMPLETED  \n",
       "336948      1     5     1    turing      0:0  COMPLETED  \n",
       "\n",
       "[283333 rows x 12 columns]"
      ]
     },
     "execution_count": 36,
     "metadata": {},
     "output_type": "execute_result"
    }
   ],
   "source": [
    "df=raw[raw[\"STATE\"] == 'COMPLETED'] \n",
    "df"
   ]
  },
  {
   "cell_type": "code",
   "execution_count": 39,
   "id": "71834016",
   "metadata": {},
   "outputs": [
    {
     "data": {
      "text/plain": [
       "COMPLETED    283333\n",
       "Name: STATE, dtype: int64"
      ]
     },
     "execution_count": 39,
     "metadata": {},
     "output_type": "execute_result"
    }
   ],
   "source": [
    "#maxwell, pascal, and turing\n",
    "maxwell_pivoted = (\n",
    "    df\n",
    "    .loc[df['Partition'].isin(['maxwell'])]\n",
    "    .pivot_table(values = 'USEDMEM',\n",
    "                  index = 'Country',\n",
    "                  columns = 'Year')\n",
    "    .dropna()\n",
    ")"
   ]
  },
  {
   "cell_type": "code",
   "execution_count": 40,
   "id": "813693e9",
   "metadata": {
    "scrolled": true
   },
   "outputs": [
    {
     "data": {
      "text/plain": [
       "27"
      ]
     },
     "execution_count": 40,
     "metadata": {},
     "output_type": "execute_result"
    }
   ],
   "source": []
  },
  {
   "cell_type": "code",
   "execution_count": null,
   "id": "37aa6f4e",
   "metadata": {},
   "outputs": [],
   "source": []
  },
  {
   "cell_type": "markdown",
   "id": "6d0a1315",
   "metadata": {},
   "source": [
    "The main objectives of this project are to examine the following questions:\n",
    "1. What is the distribution of per-GPU main memory usage over all runtime-weighed jobs in each partition? Knowing this will help ACCRE to understand our users memory needs for future hardware purchases.\n",
    "2. What is the distribution of the number of GPUs in each job (runtime-weighted) for each partition? What fraction of runtime-weighted and GPU-weighted jobs are using more than 4 GPUs and thus probably using the RoCE networking? Is this fraction different for each partition?\n",
    "3. What is the total runtime usage per-gpu (i.e. multiply runtime by the number of gpus) in each of the 3 partitions over the last year?\n",
    "4. What is the distribution of different groups and users accessing each partition? In each partition, who are the top users, and do they represent a majority of the runtime-weighted jobs on the partition?\n",
    "5. Currently there is a 5 day limit on runtime for GPU jobs, although some users have been asking for extensions. What is the distribution of requested runtime and actual runtime on jobs on each partition? Do users really need more time, or are they simply always requesting the maximum?"
   ]
  }
 ],
 "metadata": {
  "kernelspec": {
   "display_name": "Python 3 (ipykernel)",
   "language": "python",
   "name": "python3"
  },
  "language_info": {
   "codemirror_mode": {
    "name": "ipython",
    "version": 3
   },
   "file_extension": ".py",
   "mimetype": "text/x-python",
   "name": "python",
   "nbconvert_exporter": "python",
   "pygments_lexer": "ipython3",
   "version": "3.9.12"
  }
 },
 "nbformat": 4,
 "nbformat_minor": 5
}
